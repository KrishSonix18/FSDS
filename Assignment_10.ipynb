{
 "cells": [
  {
   "cell_type": "markdown",
   "metadata": {},
   "source": [
    "1. How do you distinguish between shutil.copy() and shutil.copytree()?\n",
    "\n",
    "Answer :\n",
    "\n",
    "shutil.copy() : it will copy a single file\n",
    "\n",
    "shutil.copytree() : it will copy entire folder and every folder and file contained in it."
   ]
  },
  {
   "cell_type": "code",
   "execution_count": null,
   "metadata": {},
   "outputs": [],
   "source": [
    "import shutil, os\n",
    "os.chdir('C:\\\\')\n",
    "shutil.copy('C:\\\\bacon', 'C:\\\\bacon_backup')\n",
    "shutil.copytree('C:\\\\bacon', 'C:\\\\bacon_backup')"
   ]
  },
  {
   "cell_type": "markdown",
   "metadata": {},
   "source": [
    "2. What function is used to rename files??\n",
    "\n",
    "Answer :\n",
    "\n",
    "rename() function is used to rename the file and directory in python which is under OS module\n",
    "\n"
   ]
  },
  {
   "cell_type": "code",
   "execution_count": null,
   "metadata": {},
   "outputs": [],
   "source": [
    "import os\n",
    "\n",
    "src = 'filee.text'\n",
    "\n",
    "dest = 'file.txt'\n",
    "\n",
    "os.rename(src, dest)\n",
    "print (\"The file has been renamed.\")"
   ]
  },
  {
   "cell_type": "markdown",
   "metadata": {},
   "source": [
    "3. What is the difference between the delete functions in the send2trash and shutil modules?\n",
    "\n",
    "Answer:\n",
    "\n",
    "The send2trash functions will move a file or folder to the recycle bin, \n",
    "\n",
    "while shutil functions will permanently delete files and folders.\n",
    "\n"
   ]
  },
  {
   "cell_type": "code",
   "execution_count": null,
   "metadata": {},
   "outputs": [],
   "source": [
    "import send2trash\n",
    "  \n",
    "send2trash.send2trash(\"D:\\Krishna\\Project Practice\\Ineuron Assignment\")"
   ]
  },
  {
   "cell_type": "markdown",
   "metadata": {},
   "source": [
    "4.ZipFile objects have a close() method just like File objects’ close() method. What ZipFile method is\n",
    "equivalent to File objects’ open() method?\n",
    "\n",
    "Answer :\n",
    "\n",
    "we have ZipFile.open() function which is equivalent to open() method in python which contains name of the file and mode as parameters\n"
   ]
  },
  {
   "cell_type": "markdown",
   "metadata": {},
   "source": [
    "5. Create a programme that searches a folder tree for files with a certain file extension (such as .pdf\n",
    "or .jpg). Copy these files from whatever location they are in to a new folder.\n",
    "\n",
    "Answer :\n"
   "source": [
    "import os,shutil\n",
    "\n",
    "def directoryCopy(folder,destinationFolder,extension):\n",
    "    dir_path = os.path.dirname(os.path.realpath(folder))\n",
    "    destinationFolder = os.path.abspath(destinationFolder)\n",
    "    for (folders,subfolders, filenames) in os.walk(dir_path, topdown=True) :\n",
    "        print(\"outer for loop\",folders,subfolders,filenames)\n",
    "        for items in filenames:\n",
    "            print(\"internal for loop\")\n",
    "            name,extensions = os.path.splitext(items)\n",
    "            print('step 1')\n",
    "            if extension == extensions :\n",
    "                filepath = folders + os.path.sep + items\n",
    "                print(\"Copy started\")\n",
    "                shutil.copy(filepath, destinationFolder)\n",
    "                print(\"Copy done\")\n",
    "\n",
    "extension = ['.pdf','.jpg']\n",
    "folder = 'Test1.txt'\n",
    "destinationFolder = 'destinationpath'\n",
    "directoryCopy(folder,destinationFolder,extension)\n",
    "\n",
    "\n",
    "\n"
   ]
  },
  {
   "cell_type": "code",
   "execution_count": null,
   "metadata": {},
   "outputs": [],
   "source": []
  }
 ],
 "metadata": {
  "kernelspec": {
   "display_name": "Python 3.9.12 ('base')",
   "language": "python",
   "name": "python3"
  },
  "language_info": {
   "codemirror_mode": {
    "name": "ipython",
    "version": 3
   },
   "file_extension": ".py",
   "mimetype": "text/x-python",
   "name": "python",
   "nbconvert_exporter": "python",
   "pygments_lexer": "ipython3",
   "version": "3.9.12"
  },
  "orig_nbformat": 4,
  "vscode": {
   "interpreter": {
    "hash": "130dd57261695388066ba37f7f13cf9652e957729f5814e160447495aef50917"
   }
  }
 },
 "nbformat": 4,
 "nbformat_minor": 2
}
