{
 "cells": [
  {
   "cell_type": "markdown",
   "metadata": {},
   "source": [
    "1. What does an empty dictionary's code look like?\n",
    "\n",
    "Answer :\n",
    "\n",
    "you can define an empty deictionary using curly braces '{}'\n"
   ]
  },
  {
   "cell_type": "code",
   "execution_count": 6,
   "metadata": {},
   "outputs": [
    {
     "name": "stdout",
     "output_type": "stream",
     "text": [
      "<class 'dict'>\n"
     ]
    }
   ],
   "source": [
    "dict = {}\n",
    "\n",
    "print(type(dict))"
   ]
  },
  {
   "cell_type": "markdown",
   "metadata": {},
   "source": [
    "2. What is the value of a dictionary value with the key 'foo' and the value 42?\n",
    "\n",
    "Answer :"
   ]
  },
  {
   "cell_type": "code",
   "execution_count": 7,
   "metadata": {},
   "outputs": [
    {
     "name": "stdout",
     "output_type": "stream",
     "text": [
      "{'foo': 42}\n"
     ]
    }
   ],
   "source": [
    "\n",
    "myDict = {\n",
    "    'foo' : 42\n",
    "}\n",
    "print(myDict)"
   ]
  },
  {
   "cell_type": "markdown",
   "metadata": {},
   "source": [
    "3. What is the most significant distinction between a dictionary and a list?\n",
    "\n",
    "Answer:\n",
    "\n",
    "List contains on values and it is represented using square bracket '[]'. Items in list are Ordered\n",
    "\n",
    "Dictionary contains data in key value pairs and it is represented using curly bracket '{}' . Items in dictionary are unordered\n"
   ]
  },
  {
   "cell_type": "markdown",
   "metadata": {},
   "source": [
    "4. What happens if you try to access spam['foo'] if spam is {'bar': 100}?\n",
    "\n",
    "Answer :\n",
    "\n",
    "it will through an error\n"
   ]
  },
  {
   "cell_type": "code",
   "execution_count": 8,
   "metadata": {},
   "outputs": [
    {
     "ename": "KeyError",
     "evalue": "'foo'",
     "output_type": "error",
     "traceback": [
      "\u001b[1;31m---------------------------------------------------------------------------\u001b[0m",
      "\u001b[1;31mKeyError\u001b[0m                                  Traceback (most recent call last)",
      "\u001b[1;32md:\\Krishna\\Project Practice\\Ineuron Assignment\\Assignment_5.ipynb Cell 7'\u001b[0m in \u001b[0;36m<cell line: 4>\u001b[1;34m()\u001b[0m\n\u001b[0;32m      <a href='vscode-notebook-cell:/d%3A/Krishna/Project%20Practice/Ineuron%20Assignment/Assignment_5.ipynb#ch0000011?line=0'>1</a>\u001b[0m myNewDict \u001b[39m=\u001b[39m {\n\u001b[0;32m      <a href='vscode-notebook-cell:/d%3A/Krishna/Project%20Practice/Ineuron%20Assignment/Assignment_5.ipynb#ch0000011?line=1'>2</a>\u001b[0m     \u001b[39m'\u001b[39m\u001b[39mbar\u001b[39m\u001b[39m'\u001b[39m: \u001b[39m100\u001b[39m\n\u001b[0;32m      <a href='vscode-notebook-cell:/d%3A/Krishna/Project%20Practice/Ineuron%20Assignment/Assignment_5.ipynb#ch0000011?line=2'>3</a>\u001b[0m }\n\u001b[1;32m----> <a href='vscode-notebook-cell:/d%3A/Krishna/Project%20Practice/Ineuron%20Assignment/Assignment_5.ipynb#ch0000011?line=3'>4</a>\u001b[0m \u001b[39mprint\u001b[39m(myNewDict[\u001b[39m'\u001b[39;49m\u001b[39mfoo\u001b[39;49m\u001b[39m'\u001b[39;49m])\n",
      "\u001b[1;31mKeyError\u001b[0m: 'foo'"
     ]
    }
   ],
   "source": [
    "myNewDict = {\n",
    "    'bar': 100\n",
    "}\n",
    "print(myNewDict['foo'])"
   ]
  },
  {
   "cell_type": "markdown",
   "metadata": {},
   "source": [
    "5. If a dictionary is stored in spam, what is the difference between the expressions 'cat' in spam and\n",
    "'cat' in spam.keys()?\n",
    "\n",
    "Answer:\n",
    "\n",
    "Both are same. both check if 'cat' is key of the dictionary and if its a key, returns True.\n"
   ]
  },
  {
   "cell_type": "code",
   "execution_count": 9,
   "metadata": {},
   "outputs": [
    {
     "name": "stdout",
     "output_type": "stream",
     "text": [
      "True\n",
      "True\n"
     ]
    }
   ],
   "source": [
    "spam ={\n",
    "    \"cat\" : \"meow\"\n",
    "}\n",
    "\n",
    "print('cat' in spam)\n",
    "print('cat' in spam.keys())"
   ]
  },
  {
   "cell_type": "markdown",
   "metadata": {},
   "source": [
    "6. If a dictionary is stored in spam, what is the difference between the expressions 'cat' in spam and\n",
    "'cat' in spam.values()?\n",
    "\n",
    "Answer:\n",
    "\n",
    "Both are different . first expression will check for if cat is in spam which is true \n",
    "when we check for spam.values as we dont have any value as 'cat' its return false \n",
    "\n",
    "\n"
   ]
  },
  {
   "cell_type": "code",
   "execution_count": 10,
   "metadata": {},
   "outputs": [
    {
     "name": "stdout",
     "output_type": "stream",
     "text": [
      "True\n",
      "False\n"
     ]
    }
   ],
   "source": [
    "spam ={\n",
    "    \"cat\" : \"meow\"\n",
    "}\n",
    "\n",
    "print('cat' in spam)\n",
    "print('cat' in spam.values())"
   ]
  },
  {
   "cell_type": "markdown",
   "metadata": {},
   "source": [
    "7. What is a shortcut for the following code?\n",
    "\n",
    "if 'color' not in spam:\n",
    "spam['color'] = 'black'\n",
    "\n",
    "Answer:"
   ]
  },
  {
   "cell_type": "code",
   "execution_count": 13,
   "metadata": {},
   "outputs": [
    {
     "data": {
      "text/plain": [
       "{'cat': 100, 'color': 'black'}"
      ]
     },
     "execution_count": 13,
     "metadata": {},
     "output_type": "execute_result"
    }
   ],
   "source": [
    "spam ={'cat':100}\n",
    "spam.setdefault('color','black')\n",
    "spam"
   ]
  },
  {
   "cell_type": "markdown",
   "metadata": {},
   "source": [
    "8. How do you 'pretty print' dictionary values using which module and function?\n",
    "\n",
    "Answer:\n",
    "\n",
    "We need to import pprint module and then we need use pprint() function to get the dictionary in pretty print format"
   ]
  },
  {
   "cell_type": "code",
   "execution_count": 14,
   "metadata": {},
   "outputs": [
    {
     "name": "stdout",
     "output_type": "stream",
     "text": [
      "{'age': 31,\n",
      " 'books': ['Harry Potter', 'Lord of the Rings'],\n",
      " 'gender': 'male',\n",
      " 'name': 'Sudhanshu'}\n"
     ]
    }
   ],
   "source": [
    "import pprint\n",
    "\n",
    "myDictTwo = {'name': 'Sudhanshu', 'age': 31, 'gender': 'male', 'books': ['Harry Potter', 'Lord of the Rings']}\n",
    "pprint.pprint(myDictTwo)"
   ]
  }
 ],
 "metadata": {
  "kernelspec": {
   "display_name": "Python 3.9.12 ('base')",
   "language": "python",
   "name": "python3"
  },
  "language_info": {
   "codemirror_mode": {
    "name": "ipython",
    "version": 3
   },
   "file_extension": ".py",
   "mimetype": "text/x-python",
   "name": "python",
   "nbconvert_exporter": "python",
   "pygments_lexer": "ipython3",
   "version": "3.9.12"
  },
  "orig_nbformat": 4,
  "vscode": {
   "interpreter": {
    "hash": "130dd57261695388066ba37f7f13cf9652e957729f5814e160447495aef50917"
   }
  }
 },
 "nbformat": 4,
 "nbformat_minor": 2
}
