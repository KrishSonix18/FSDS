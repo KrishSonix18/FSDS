{
 "cells": [
  {
   "cell_type": "markdown",
   "metadata": {},
   "source": [
    "1. To what does a relative path refer?\n",
    "\n",
    "Answer : \n",
    "\n",
    "relative path refer to the current working directory or you can say where you are writing your programs\n",
    "\n"
   ]
  },
  {
   "cell_type": "markdown",
   "metadata": {},
   "source": [
    "2. What does an absolute path start with your operating system?\n",
    "\n",
    "Answer :\n",
    "\n",
    "absolute path refer to the entire path from the root of the directory till the current working directory in which you are working.\n"
   ]
  },
  {
   "cell_type": "markdown",
   "metadata": {},
   "source": [
    "3. What do the functions os.getcwd() and os.chdir() do?\n",
    "\n",
    "Answer :\n",
    "\n",
    "os.getcwd() : it will give you the details of the current working directory\n",
    "\n",
    "os.chdir() : it will help you to change the directory in which user wants to work\n"
   ]
  },
  {
   "cell_type": "code",
   "execution_count": 1,
   "metadata": {},
   "outputs": [
    {
     "name": "stdout",
     "output_type": "stream",
     "text": [
      "Before :  d:\\Krishna\\Project Practice\\Ineuron Assignment\n",
      "\n",
      "After :  C:\\\n"
     ]
    }
   ],
   "source": [
    "import os\n",
    "\n",
    "print('Before : ', os.getcwd())\n",
    "\n",
    "os.chdir(path='c:')\n",
    "\n",
    "print('\\nAfter : ',os.getcwd())\n"
   ]
  },
  {
   "cell_type": "code",
   "execution_count": null,
   "metadata": {},
   "outputs": [],
   "source": [
    "os.chdi"
   ]
  },
  {
   "cell_type": "markdown",
   "metadata": {},
   "source": [
    "4. What are the . and .. folders?\n",
    "\n",
    "Answer :\n",
    "\n",
    "'.' denotes same directory in which you are working\n",
    "\n",
    "'..' denotes parent directory of the current location"
   ]
  },
  {
   "cell_type": "markdown",
   "metadata": {},
   "source": [
    "5. In C:\\bacon\\eggs\\spam.txt, which part is the dir name, and which part is the base name?\n",
    "\n",
    "Answer :\n",
    "\n",
    "C:\\bacon\\eggs is the dir name, while spam. txt is the base name.\n",
    "\n"
   ]
  },
  {
   "cell_type": "markdown",
   "metadata": {},
   "source": [
    "6. What are the three “mode” arguments that can be passed to the open() function?\n",
    "\n",
    "Answer :\n",
    "\n",
    "r(read) : Open a file for reading mode\n",
    "\n",
    "w(write) : Open a file for writing mode\n",
    "\n",
    "a(append) : Open a file for appending the content at the end of the file"
   ]
  },
  {
   "cell_type": "code",
   "execution_count": 5,
   "metadata": {},
   "outputs": [
    {
     "name": "stdout",
     "output_type": "stream",
     "text": [
      "C:\\\n"
     ]
    },
    {
     "ename": "FileNotFoundError",
     "evalue": "[Errno 2] No such file or directory: 'input.txt'",
     "output_type": "error",
     "traceback": [
      "\u001b[1;31m---------------------------------------------------------------------------\u001b[0m",
      "\u001b[1;31mFileNotFoundError\u001b[0m                         Traceback (most recent call last)",
      "\u001b[1;32md:\\Krishna\\Project Practice\\Ineuron Assignment\\Assignment_9.ipynb Cell 9'\u001b[0m in \u001b[0;36m<cell line: 6>\u001b[1;34m()\u001b[0m\n\u001b[0;32m      <a href='vscode-notebook-cell:/d%3A/Krishna/Project%20Practice/Ineuron%20Assignment/Assignment_9.ipynb#ch0000012?line=2'>3</a>\u001b[0m \u001b[39mprint\u001b[39m(os\u001b[39m.\u001b[39mgetcwd())\n\u001b[0;32m      <a href='vscode-notebook-cell:/d%3A/Krishna/Project%20Practice/Ineuron%20Assignment/Assignment_9.ipynb#ch0000012?line=4'>5</a>\u001b[0m \u001b[39m#Read\u001b[39;00m\n\u001b[1;32m----> <a href='vscode-notebook-cell:/d%3A/Krishna/Project%20Practice/Ineuron%20Assignment/Assignment_9.ipynb#ch0000012?line=5'>6</a>\u001b[0m f \u001b[39m=\u001b[39m \u001b[39mopen\u001b[39;49m(\u001b[39m'\u001b[39;49m\u001b[39minput.txt\u001b[39;49m\u001b[39m'\u001b[39;49m,mode\u001b[39m=\u001b[39;49m \u001b[39m'\u001b[39;49m\u001b[39mr\u001b[39;49m\u001b[39m'\u001b[39;49m)\n\u001b[0;32m      <a href='vscode-notebook-cell:/d%3A/Krishna/Project%20Practice/Ineuron%20Assignment/Assignment_9.ipynb#ch0000012?line=6'>7</a>\u001b[0m \u001b[39m#Write\u001b[39;00m\n\u001b[0;32m      <a href='vscode-notebook-cell:/d%3A/Krishna/Project%20Practice/Ineuron%20Assignment/Assignment_9.ipynb#ch0000012?line=7'>8</a>\u001b[0m f \u001b[39m=\u001b[39m \u001b[39mopen\u001b[39m(\u001b[39m'\u001b[39m\u001b[39minput.txt\u001b[39m\u001b[39m'\u001b[39m,mode\u001b[39m=\u001b[39m \u001b[39m'\u001b[39m\u001b[39mw\u001b[39m\u001b[39m'\u001b[39m)\n",
      "\u001b[1;31mFileNotFoundError\u001b[0m: [Errno 2] No such file or directory: 'input.txt'"
     ]
    }
   ],
   "source": [
    "\n",
    "#Read\n",
    "f = open('input.txt',mode= 'r')\n",
    "#Write\n",
    "f = open('input.txt',mode= 'w')\n",
    "#append\n",
    "f = open('input.txt',mode= 'a')"
   ]
  },
  {
   "cell_type": "markdown",
   "metadata": {},
   "source": [
    "7. What happens if an existing file is opened in write mode?\n",
    "\n",
    "Answer :\n",
    "\n",
    "We can write into the file when it is open in write mode"
   ]
  },
  {
   "cell_type": "code",
   "execution_count": null,
   "metadata": {},
   "outputs": [],
   "source": [
    "#Write\n",
    "f = open('input.txt',mode= 'w')"
   ]
  },
  {
   "cell_type": "markdown",
   "metadata": {},
   "source": [
    "8. How do you tell the difference between read() and readlines()?\n",
    "\n",
    "Answer : \n",
    "\n",
    "read() : read the entire content of the file and return as string\n",
    "\n",
    "readlines() : reads the entire contents of a file and returns it as a list of strings, where each element of the list is a single line of the file.\n",
    "\n",
    "\n"
   ]
  },
  {
   "cell_type": "code",
   "execution_count": null,
   "metadata": {},
   "outputs": [],
   "source": [
    "f = open('input.txt',mode= 'r')\n",
    "f.read()\n",
    "f.readlines()"
   ]
  },
  {
   "cell_type": "markdown",
   "metadata": {},
   "source": [
    "9. What data structure does a shelf value resemble?\n",
    "\n",
    "Answer : \n",
    "\n",
    "A shelf value resembles a dictionary value; it has keys and values, along with keys() and values() methods that work similarly to the dictionary methods of the same names."
   ]
  }
 ],
 "metadata": {
  "kernelspec": {
   "display_name": "Python 3.9.12 ('base')",
   "language": "python",
   "name": "python3"
  },
  "language_info": {
   "codemirror_mode": {
    "name": "ipython",
    "version": 3
   },
   "file_extension": ".py",
   "mimetype": "text/x-python",
   "name": "python",
   "nbconvert_exporter": "python",
   "pygments_lexer": "ipython3",
   "version": "3.9.12"
  },
  "orig_nbformat": 4,
  "vscode": {
   "interpreter": {
    "hash": "130dd57261695388066ba37f7f13cf9652e957729f5814e160447495aef50917"
   }
  }
 },
 "nbformat": 4,
 "nbformat_minor": 2
}
