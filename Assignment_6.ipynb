{
 "cells": [
  {
   "cell_type": "markdown",
   "metadata": {},
   "source": [
    "1. What are escape characters, and how do you use them?\n",
    "\n",
    "Answer:\n",
    "\n",
    "\n",
    "escape character is a used tp insert a new line or tab in the expression\n",
    "\n",
    "its starts with a backslash followed by a character i.e., t,n,r\n",
    "\n",
    "example :\n",
    "\n",
    "\\n = newline\n",
    "\\t = tab\n"
   ]
  },
  {
   "cell_type": "markdown",
   "metadata": {},
   "source": [
    "2. What do the escape characters n and t stand for?\n",
    "\n",
    "Answer:\n",
    "\n",
    "n stands for newline\n",
    "t stands for tab"
   ]
  },
  {
   "cell_type": "markdown",
   "metadata": {},
   "source": [
    "3. What is the way to include backslash characters in a string?\n",
    "\n",
    "Answer:\n"
   ]
  },
  {
   "cell_type": "code",
   "execution_count": 1,
   "metadata": {},
   "outputs": [
    {
     "name": "stdout",
     "output_type": "stream",
     "text": [
      "its a back slash \\ in a line\n"
     ]
    }
   ],
   "source": [
    "print('its a back slash \\ in a line')"
   ]
  },
  {
   "cell_type": "markdown",
   "metadata": {},
   "source": [
    "4. The string &quot;Howl&#39;s Moving Castle&quot; is a correct value. Why isn&#39;t the single quote character in the\n",
    "word Howl&#39;s not escaped a problem?\n"
   ]
  },
  {
   "cell_type": "markdown",
   "metadata": {},
   "source": [
    "Answer : \n",
    "\n",
    "Because we have used double quotes outside and single quotes inside the expression &quot;Howl&#39;s Moving Castle&quot;"
   ]
  },
  {
   "cell_type": "markdown",
   "metadata": {},
   "source": [
    "5. How do you write a string of newlines if you don&#39;t want to use the n character?\n",
    "\n",
    "Answer:"
   ]
  },
  {
   "cell_type": "code",
   "execution_count": 2,
   "metadata": {},
   "outputs": [
    {
     "name": "stdout",
     "output_type": "stream",
     "text": [
      "printing something in new line\n",
      "newline\n"
     ]
    }
   ],
   "source": [
    "print(\"printing something in new line\",end = '\\n')\n",
    "print(\"newline\")\n"
   ]
  },
  {
   "cell_type": "markdown",
   "metadata": {},
   "source": [
    "6. What are the values of the given expressions?\n",
    "&#39;Hello, world!&#39;[1]\n",
    "&#39;Hello, world!&#39;[0:5]\n",
    "&#39;Hello, world!&#39;[:5]\n",
    "&#39;Hello, world!&#39;[3:]\n",
    "\n"
   ]
  },
  {
   "cell_type": "code",
   "execution_count": 3,
   "metadata": {},
   "outputs": [
    {
     "name": "stdout",
     "output_type": "stream",
     "text": [
      "e\n",
      "Hello\n",
      "Hello\n",
      "lo, World!\n"
     ]
    }
   ],
   "source": [
    "print('Hello, World!'[1])\n",
    "print('Hello, World!'[0:5])\n",
    "print('Hello, World!'[:5])\n",
    "print('Hello, World!'[3:])"
   ]
  },
  {
   "cell_type": "markdown",
   "metadata": {},
   "source": [
    "7. What are the values of the following expressions?\n",
    "&#39;Hello&#39;.upper()\n",
    "&#39;Hello&#39;.upper().isupper()\n",
    "&#39;Hello&#39;.upper().lower()\n"
   ]
  },
  {
   "cell_type": "code",
   "execution_count": 4,
   "metadata": {},
   "outputs": [
    {
     "name": "stdout",
     "output_type": "stream",
     "text": [
      "HELLO\n",
      "True\n",
      "hello\n"
     ]
    }
   ],
   "source": [
    "print('Hello'.upper())\n",
    "print('Hello'.upper().isupper())\n",
    "print('Hello'.upper().lower())"
   ]
  },
  {
   "cell_type": "markdown",
   "metadata": {},
   "source": [
    "8. What are the values of the following expressions?\n",
    "&#39;Remember, remember, the fifth of July.&#39;.split()\n",
    "&#39;-&#39;.join(&#39;There can only one.&#39;.split())\n"
   ]
  },
  {
   "cell_type": "code",
   "execution_count": 6,
   "metadata": {},
   "outputs": [
    {
     "name": "stdout",
     "output_type": "stream",
     "text": [
      "['Remember,', 'remember,', 'the', 'fifth', 'of', 'July.']\n",
      "There-can-only-one.\n"
     ]
    }
   ],
   "source": [
    "print('Remember, remember, the fifth of July.'.split())\n",
    "print('-'.join('There can only one.'.split()))"
   ]
  },
  {
   "cell_type": "markdown",
   "metadata": {},
   "source": [
    "9. What are the methods for right-justifying, left-justifying, and centering a string?\n"
   ]
  },
  {
   "cell_type": "markdown",
   "metadata": {},
   "source": [
    "The rjust() method right aligns the string up to a given width using a specified character.\n",
    "The ljust() method left aligns the string up to a given width using a specified character.\n",
    "The center() method center aligns the string up to a given width using a specified character."
   ]
  },
  {
   "cell_type": "code",
   "execution_count": 10,
   "metadata": {},
   "outputs": [
    {
     "name": "stdout",
     "output_type": "stream",
     "text": [
      "$$$Python is awesome\n",
      "Python is awesome###\n",
      "&Python is awesome&&\n"
     ]
    }
   ],
   "source": [
    "sentence = \"Python is awesome\"\n",
    "print(sentence.rjust(20,\"$\"))\n",
    "print(sentence.ljust(20,\"#\"))\n",
    "print(sentence.center(20,\"&\"))"
   ]
  },
  {
   "cell_type": "markdown",
   "metadata": {},
   "source": [
    "10. What is the best way to remove whitespace characters from the start or end?"
   ]
  },
  {
   "cell_type": "code",
   "execution_count": 14,
   "metadata": {},
   "outputs": [
    {
     "name": "stdout",
     "output_type": "stream",
     "text": [
      "Python is awesome     \n",
      "Python is awesome\n"
     ]
    }
   ],
   "source": [
    "# Return a copy of the string with leading whitespace removed.\n",
    "sentence1 = \"Python is awesome     \"\n",
    "print(sentence1.lstrip())\n",
    "\n",
    "# Return a copy of the string with trailing whitespace removed.\n",
    "sentence2 = \"    Python is awesome\"\n",
    "print(sentence1.rstrip())"
   ]
  }
 ],
 "metadata": {
  "kernelspec": {
   "display_name": "Python 3.9.12 ('base')",
   "language": "python",
   "name": "python3"
  },
  "language_info": {
   "codemirror_mode": {
    "name": "ipython",
    "version": 3
   },
   "file_extension": ".py",
   "mimetype": "text/x-python",
   "name": "python",
   "nbconvert_exporter": "python",
   "pygments_lexer": "ipython3",
   "version": "3.9.12"
  },
  "orig_nbformat": 4,
  "vscode": {
   "interpreter": {
    "hash": "130dd57261695388066ba37f7f13cf9652e957729f5814e160447495aef50917"
   }
  }
 },
 "nbformat": 4,
 "nbformat_minor": 2
}
