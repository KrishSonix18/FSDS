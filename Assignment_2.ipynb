{
 "cells": [
  {
   "cell_type": "markdown",
   "id": "15949912",
   "metadata": {},
   "source": [
    "1.What are the two values of the Boolean data type? How do you write them?\n",
    "\n",
    "Answer: Two values of the Boolean data type are as below:\n",
    "\n",
    "1.\tTrue which is equivalent to 1\n",
    "2.\tFalse which is equivalent to 0\n"
   ]
  },
  {
   "cell_type": "markdown",
   "id": "b62ec820",
   "metadata": {},
   "source": [
    "2. What are the three different types of Boolean operators?\n",
    "\n",
    "Answer: Three Different types of Boolean operators are \n",
    "\n",
    "1.\tAND\n",
    "\n",
    "•\tIf both the conditions are true then it will return true\n",
    "\n",
    "•\tIf anyone of the conditions are false then it will return false\n",
    "\n",
    "•\tIf both the conditions are false then it will return false\n",
    "\n",
    "2.\tOR\n",
    "\n",
    "•\tIf both the conditions are true then it will return true\n",
    "\n",
    "•\tIf anyone of the conditions are true then it will return true\n",
    "\n",
    "•\tIf both the conditions are false then it will return false\n",
    "\n",
    "3.\tNOT\n",
    "\n",
    "•\tIf the condition return true It will change true into false\n",
    "\n",
    "•\tIf the condition return false It will change false into true\n"
   ]
  },
  {
   "cell_type": "markdown",
   "id": "d1b05317",
   "metadata": {},
   "source": [
    "3. Make a list of each Boolean operator's truth tables (i.e. every possible combination of Boolean values for the operator and what it evaluate ).\n",
    "\n",
    "Answer:\n",
    "\n",
    "AND operator Truth Table\t\t\t\n",
    "Input\tOutput\n",
    "\n",
    "1\t1\t1\n",
    "    \n",
    "1\t0\t0\n",
    "    \n",
    "0\t1\t0\n",
    "    \n",
    "0\t0\t0\n",
    "\t\t\t\n",
    "OR operator Truth Table\t\t\t\n",
    "Input\tOutput\n",
    "\n",
    "1\t1\t1\n",
    "    \n",
    "1\t0\t1\n",
    "    \n",
    "0\t1\t1\n",
    "    \n",
    "0\t0\t0\n",
    "\t\t\t\n",
    "NOT operator Truth Table\t\t\t\n",
    "Input\tOutput\n",
    "\n",
    "1\t\t0\n",
    "    \n",
    "0\t\t1\n"
   ]
  },
  {
   "cell_type": "markdown",
   "id": "ffd69a4d",
   "metadata": {},
   "source": [
    "4. What are the values of the following expressions?\n",
    "\n",
    "Answer :\n",
    "    \n",
    "(5 > 4) and (3 == 5) -- False\n",
    "\n",
    "not (5 > 4) -- True\n",
    "\n",
    "(5 > 4) or (3 == 5) -- True\n",
    "\n",
    "not ((5 > 4) or (3 == 5)) -- False\n",
    "\n",
    "(True and True) and (True == False) -- False\n",
    "\n",
    "(not False) or (not True) -- True\n"
   ]
  },
  {
   "cell_type": "markdown",
   "id": "cdadf7b3",
   "metadata": {},
   "source": [
    "5. What are the six comparison operators?\n",
    "\n",
    "Answer: ==, !=, <, >, <=, and >="
   ]
  },
  {
   "cell_type": "markdown",
   "id": "ed137291",
   "metadata": {},
   "source": [
    "6. How do you tell the difference between the equal to and assignment operators?\n",
    "Describe a condition and when you would use one.\n",
    "\n",
    "Answer: \n",
    "    \n",
    "\"==\" is the equal to operator that compares two values and evaluate to a Boolean value, \n",
    "\n",
    "while \"=\" is the assignment operator that stores a value in a variable.\n",
    "\n",
    "e.g.,\n",
    "\n",
    "print(10==10) -- o/p : True\n",
    "\n",
    "a = 10 \n",
    "print(10) -- o/p : 10"
   ]
  },
  {
   "cell_type": "markdown",
   "id": "ecb64aa4",
   "metadata": {},
   "source": [
    "7. Identify the three blocks in this code:\n",
    "\n",
    "spam = 0\n",
    "if spam == 10:\n",
    "    print('eggs')\n",
    "if spam > 5:\n",
    "    print('bacon')\n",
    "else:\n",
    "    print('ham')\n",
    "    print('spam')\n",
    "    print('spam')\n",
    "\n",
    "\n",
    "Answer: \n",
    " o/p : ham\n",
    "       spam\n",
    "       spam"
   ]
  },
  {
   "cell_type": "markdown",
   "id": "dd333d85",
   "metadata": {},
   "source": [
    "8. Write code that prints Hello if 1 is stored in spam, prints Howdy if 2 is stored in spam, and prints Greetings! if anything else is stored in spam.\n",
    "\n",
    "Answer:"
   ]
  },
  {
   "cell_type": "code",
   "execution_count": 3,
   "id": "f36ef51b",
   "metadata": {},
   "outputs": [
    {
     "name": "stdout",
     "output_type": "stream",
     "text": [
      "Enter a value : 1\n",
      "Hello\n"
     ]
    }
   ],
   "source": [
    "spam = int(input(\"Enter a value : \"))\n",
    "if spam == 1:\n",
    "    print(\"Hello\")\n",
    "elif spam == 2 :\n",
    "    print(\"Howdy\")\n",
    "else :\n",
    "    print(\"Greeting!\")"
   ]
  },
  {
   "cell_type": "markdown",
   "id": "d4439825",
   "metadata": {},
   "source": [
    "9.If your programme is stuck in an endless loop, what keys you’ll press?\n",
    "\n",
    "Answer: ctrl + c\n"
   ]
  },
  {
   "cell_type": "markdown",
   "id": "66b2fa47",
   "metadata": {},
   "source": [
    "10. How can you tell the difference between break and continue?\n",
    "\n",
    "Answer:\n",
    "\n",
    "Break - if a particular condition is met then break keyword will get out of the loop or stop the execution\n",
    "\n",
    "Continue - if a particular condition is met then continue keyword will continue the execution of the code block by just skipping the value which met the condition\n",
    "\n",
    "example as below"
   ]
  },
  {
   "cell_type": "code",
   "execution_count": 8,
   "id": "08de6ef9",
   "metadata": {},
   "outputs": [
    {
     "name": "stdout",
     "output_type": "stream",
     "text": [
      "0\n",
      "1\n",
      "2\n",
      "3\n",
      "4\n",
      "5\n",
      "6\n",
      "Break \n",
      "\n",
      "0\n",
      "1\n",
      "2\n",
      "3\n",
      "4\n",
      "5\n",
      "6\n",
      "Continue\n",
      "8\n",
      "9\n"
     ]
    }
   ],
   "source": [
    "# use of break\n",
    "for i in range(10):\n",
    "    if(i==7):\n",
    "        break\n",
    "    print(i)\n",
    "    \n",
    "print('Break \\n')\n",
    "\n",
    "#use of  continue\n",
    "for i in range(10):\n",
    "    if(i==7):\n",
    "        print('Continue')\n",
    "        continue\n",
    "    print(i)\n",
    "    "
   ]
  },
  {
   "cell_type": "markdown",
   "id": "2685d8c3",
   "metadata": {},
   "source": [
    "11. In a for loop, what is the difference between range(10), range(0, 10), and range(0, 10, 1)?\n",
    "\n",
    "Answer: All the 3 expression are same just representation wise they are different\n",
    "\n",
    "1) range(10) -- it will start it execution from 0 till 9 excluding 10\n",
    "\n",
    "2) range(0,10) -- it will start it execution from 0 till 9 excluding 10\n",
    "\n",
    "3) range(0,10,1) -- it will start it execution from 0 till 9 excluding 10 but over here we are defining hop as the 3rd parameter in the range function."
   ]
  },
  {
   "cell_type": "code",
   "execution_count": 11,
   "id": "86cb2ba3",
   "metadata": {},
   "outputs": [
    {
     "name": "stdout",
     "output_type": "stream",
     "text": [
      "range(10)\n",
      "0\n",
      "1\n",
      "2\n",
      "3\n",
      "4\n",
      "5\n",
      "6\n",
      "7\n",
      "8\n",
      "9\n",
      "\n",
      "range(0,10)\n",
      "0\n",
      "1\n",
      "2\n",
      "3\n",
      "4\n",
      "5\n",
      "6\n",
      "7\n",
      "8\n",
      "9\n",
      "\n",
      "range(0,10,1)\n",
      "0\n",
      "1\n",
      "2\n",
      "3\n",
      "4\n",
      "5\n",
      "6\n",
      "7\n",
      "8\n",
      "9\n"
     ]
    }
   ],
   "source": [
    "print(\"range(10)\") \n",
    "for i in range(10):\n",
    "    print(i)\n",
    "print(\"\\nrange(0,10)\") \n",
    "for i in range(0,10):\n",
    "    print(i)\n",
    "print(\"\\nrange(0,10,1)\") \n",
    "for i in range(0,10,1):\n",
    "    print(i)"
   ]
  },
  {
   "cell_type": "markdown",
   "id": "0470771f",
   "metadata": {},
   "source": [
    "12. Write a short program that prints the numbers 1 to 10 using a for loop. Then write an equivalent program that prints the numbers 1 to 10 using a while loop.\n",
    "\n",
    "Answer:"
   ]
  },
  {
   "cell_type": "code",
   "execution_count": 12,
   "id": "5aff1722",
   "metadata": {},
   "outputs": [
    {
     "name": "stdout",
     "output_type": "stream",
     "text": [
      " For loop Example\n",
      "1\n",
      "2\n",
      "3\n",
      "4\n",
      "5\n",
      "6\n",
      "7\n",
      "8\n",
      "9\n",
      "10\n",
      "\n",
      " while loop Example\n",
      "1\n",
      "2\n",
      "3\n",
      "4\n",
      "5\n",
      "6\n",
      "7\n",
      "8\n",
      "9\n",
      "10\n"
     ]
    }
   ],
   "source": [
    "print(\" For loop Example\")\n",
    "\n",
    "for i in range(1,11) :\n",
    "    print(i)\n",
    "\n",
    "print(\"\\n while loop Example\")\n",
    "i = 1\n",
    "while i <= 10 :\n",
    "    print(i)\n",
    "    i = i + 1\n"
   ]
  },
  {
   "cell_type": "markdown",
   "id": "3b99ef57",
   "metadata": {},
   "source": [
    "13. If you had a function named bacon() inside a module named spam, how would you call it after importing spam?\n",
    "\n",
    "Answer: \n",
    "\n",
    "import spam\n",
    "\n",
    "function can be called using the syntax modulename.functionname\n",
    "\n",
    "spam.bacon()"
   ]
  },
  {
   "cell_type": "code",
   "execution_count": null,
   "id": "a9584ada",
   "metadata": {},
   "outputs": [],
   "source": []
  }
 ],
 "metadata": {
  "kernelspec": {
   "display_name": "Python 3 (ipykernel)",
   "language": "python",
   "name": "python3"
  },
  "language_info": {
   "codemirror_mode": {
    "name": "ipython",
    "version": 3
   },
   "file_extension": ".py",
   "mimetype": "text/x-python",
   "name": "python",
   "nbconvert_exporter": "python",
   "pygments_lexer": "ipython3",
   "version": "3.9.12"
  }
 },
 "nbformat": 4,
 "nbformat_minor": 5
}
