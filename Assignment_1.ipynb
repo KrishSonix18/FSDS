{
 "cells": [
  {
   "cell_type": "markdown",
   "id": "8be39979",
   "metadata": {},
   "source": [
    "1. In the below elements which of them are values or an expression? eg:- values can be integer or string and expressions will be mathematical operators.\n",
    "\n",
    "Answer: \n",
    "1) * - expression (multiplication operators)\n",
    "2) 'hello' – value (String)\n",
    "3) -87.8 – value (float)\n",
    "4) - - expression (substraction expression)\n",
    "5) / - expression (division expression)\n",
    "6) +\t- expression (addition expression)\n",
    "7) 6 – value (integer)"
   ]
  },
  {
   "cell_type": "markdown",
   "id": "90e95114",
   "metadata": {},
   "source": [
    "2. What is the difference between string and variable?\n",
    "\n",
    "Answer: string is a datatype and variable is nothing but a storage location which holds a value into it.\n",
    "Example:         A = ‘sudhanshu’\t\n"
   ]
  },
  {
   "cell_type": "markdown",
   "id": "6019e411",
   "metadata": {},
   "source": [
    "3. Describe three different data types.\n",
    "\n",
    "\n",
    "Answer:\n",
    "\n",
    "\n",
    "\n",
    "1.\tNumeric Datatype: \n",
    "\n",
    "Numerical datatype : internally divided into 3 more types\n",
    "\n",
    "(a)\tInt: whole number e.g.: 100,34,65 etc\n",
    "\n",
    "(b)\tFloat: decimal numbers e.g.: 24.5463,34.4,56.7etc\n",
    "\n",
    "(c)\tComplex: complex numbers are combination of real and imaginary number e.g.: 3+2j, 4-2j etc\n",
    "\n",
    "2.\tString Datatype: \n",
    "\n",
    "In String datatype we usually refer to text (composed of sequence of character) under double quotes or single quotes e.g., \"Sudhanshu\"\n",
    "\n",
    "3.\tBoolean Datatype: \n",
    "\n",
    "Boolean Datatype can be 0 or 1 which represents either False or True. It is also a built-in datatype provided by python. Generally, it is used to represent the truth values of the expressions. e.g., 1==1 is True whereas 2<1 is False\n"
   ]
  },
  {
   "cell_type": "markdown",
   "id": "92c56595",
   "metadata": {},
   "source": [
    "4. What is an expression made up of? What do all expressions do?\n",
    "\n",
    "Answer: A combination of operands and operators is called an expression. \n",
    "The expression in Python produces some value or result after being interpreted by the Python interpreter. \n",
    "An example of expression can be: \n",
    "\n",
    "e.g., 10+20 = 30\n"
   ]
  },
  {
   "cell_type": "markdown",
   "id": "20d2f224",
   "metadata": {},
   "source": [
    "5. This assignment statements, like spam = 10. What is the difference between an expression and a statement?\n",
    "\n",
    "Answer : Statements represent an action or command e.g., print statements, assignment statements. \n",
    "    An expression is a combination of operators, variables, values. Expressions need to be evaluated."
   ]
  },
  {
   "cell_type": "markdown",
   "id": "ca3f539b",
   "metadata": {},
   "source": [
    "6. After running the following code, what does the variable bacon contain?\n",
    "bacon = 22\n",
    "bacon + 1\n",
    "\n",
    "Answer: output: 22\n",
    "\n",
    "Because bacon + 1 is not assigned back to the bacon variable that’s the reason the output will be 22 \n"
   ]
  },
  {
   "cell_type": "markdown",
   "id": "ef7214c9",
   "metadata": {},
   "source": [
    "7. What should the values of the following two terms be?\n",
    "'spam' + 'spamspam'\t\n",
    "'spam' * 3\n",
    "\n",
    "Answer : Output for both the terms will be same i.e., Output: spamspamspam\n"
   ]
  },
  {
   "cell_type": "markdown",
   "id": "c564c58f",
   "metadata": {},
   "source": [
    "8. Why is eggs a valid variable name while 100 is invalid?\n",
    "\n",
    "Answer: eggs is a valid variable because as per the rules defined for variable defination or declaration \n",
    "1)\tA variable name must start with a letter or the underscore character.\n",
    "\n",
    "2)\tA variable name cannot start with a number.\n"
   ]
  },
  {
   "cell_type": "markdown",
   "id": "309675a8",
   "metadata": {},
   "source": [
    "9. What three functions can be used to get the integer, floating-point number, or string version of a value?\n",
    "\n",
    "Answer: int(), float(), str()\n"
   ]
  },
  {
   "cell_type": "markdown",
   "id": "54caf4a4",
   "metadata": {},
   "source": [
    "10. Why does this expression cause an error? How can you fix it?\n",
    "\n",
    "'I have eaten ' + 99 + ' burritos.'\n",
    "\n",
    "Answer: In python, we cannot concatenate string with integer values. So, we need to typecast integer value i.e., 99 to string then only it will fix the expression.\n",
    "\n",
    "Like below statement\n",
    "'I have eaten ' + str(99) + ' burritos.' Or 'I have eaten ' + ‘99’ + ' burritos.'\n"
   ]
  }
 ],
 "metadata": {
  "kernelspec": {
   "display_name": "Python 3 (ipykernel)",
   "language": "python",
   "name": "python3"
  },
  "language_info": {
   "codemirror_mode": {
    "name": "ipython",
    "version": 3
   },
   "file_extension": ".py",
   "mimetype": "text/x-python",
   "name": "python",
   "nbconvert_exporter": "python",
   "pygments_lexer": "ipython3",
   "version": "3.9.12"
  }
 },
 "nbformat": 4,
 "nbformat_minor": 5
}
